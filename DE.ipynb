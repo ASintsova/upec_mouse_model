{
 "cells": [
  {
   "cell_type": "code",
   "execution_count": 1,
   "metadata": {},
   "outputs": [
    {
     "name": "stderr",
     "output_type": "stream",
     "text": [
      "Warning message:\n",
      "“package ‘DESeq2’ was built under R version 3.5.2”Loading required package: S4Vectors\n",
      "Loading required package: stats4\n",
      "Loading required package: BiocGenerics\n",
      "Loading required package: parallel\n",
      "\n",
      "Attaching package: ‘BiocGenerics’\n",
      "\n",
      "The following objects are masked from ‘package:parallel’:\n",
      "\n",
      "    clusterApply, clusterApplyLB, clusterCall, clusterEvalQ,\n",
      "    clusterExport, clusterMap, parApply, parCapply, parLapply,\n",
      "    parLapplyLB, parRapply, parSapply, parSapplyLB\n",
      "\n",
      "The following objects are masked from ‘package:stats’:\n",
      "\n",
      "    IQR, mad, sd, var, xtabs\n",
      "\n",
      "The following objects are masked from ‘package:base’:\n",
      "\n",
      "    anyDuplicated, append, as.data.frame, basename, cbind, colMeans,\n",
      "    colnames, colSums, dirname, do.call, duplicated, eval, evalq,\n",
      "    Filter, Find, get, grep, grepl, intersect, is.unsorted, lapply,\n",
      "    lengths, Map, mapply, match, mget, order, paste, pmax, pmax.int,\n",
      "    pmin, pmin.int, Position, rank, rbind, Reduce, rowMeans, rownames,\n",
      "    rowSums, sapply, setdiff, sort, table, tapply, union, unique,\n",
      "    unsplit, which, which.max, which.min\n",
      "\n",
      "\n",
      "Attaching package: ‘S4Vectors’\n",
      "\n",
      "The following object is masked from ‘package:base’:\n",
      "\n",
      "    expand.grid\n",
      "\n",
      "Loading required package: IRanges\n",
      "Loading required package: GenomicRanges\n",
      "Loading required package: GenomeInfoDb\n",
      "Warning message:\n",
      "“package ‘GenomeInfoDb’ was built under R version 3.5.2”Loading required package: SummarizedExperiment\n",
      "Loading required package: Biobase\n",
      "Welcome to Bioconductor\n",
      "\n",
      "    Vignettes contain introductory material; view with\n",
      "    'browseVignettes()'. To cite Bioconductor, see\n",
      "    'citation(\"Biobase\")', and for packages 'citation(\"pkgname\")'.\n",
      "\n",
      "Loading required package: DelayedArray\n",
      "Loading required package: matrixStats\n",
      "\n",
      "Attaching package: ‘matrixStats’\n",
      "\n",
      "The following objects are masked from ‘package:Biobase’:\n",
      "\n",
      "    anyMissing, rowMedians\n",
      "\n",
      "Loading required package: BiocParallel\n",
      "Warning message:\n",
      "“package ‘BiocParallel’ was built under R version 3.5.2”\n",
      "Attaching package: ‘DelayedArray’\n",
      "\n",
      "The following objects are masked from ‘package:matrixStats’:\n",
      "\n",
      "    colMaxs, colMins, colRanges, rowMaxs, rowMins, rowRanges\n",
      "\n",
      "The following objects are masked from ‘package:base’:\n",
      "\n",
      "    aperm, apply\n",
      "\n",
      "Warning message:\n",
      "“package ‘dplyr’ was built under R version 3.5.2”\n",
      "Attaching package: ‘dplyr’\n",
      "\n",
      "The following object is masked from ‘package:matrixStats’:\n",
      "\n",
      "    count\n",
      "\n",
      "The following object is masked from ‘package:Biobase’:\n",
      "\n",
      "    combine\n",
      "\n",
      "The following objects are masked from ‘package:GenomicRanges’:\n",
      "\n",
      "    intersect, setdiff, union\n",
      "\n",
      "The following object is masked from ‘package:GenomeInfoDb’:\n",
      "\n",
      "    intersect\n",
      "\n",
      "The following objects are masked from ‘package:IRanges’:\n",
      "\n",
      "    collapse, desc, intersect, setdiff, slice, union\n",
      "\n",
      "The following objects are masked from ‘package:S4Vectors’:\n",
      "\n",
      "    first, intersect, rename, setdiff, setequal, union\n",
      "\n",
      "The following objects are masked from ‘package:BiocGenerics’:\n",
      "\n",
      "    combine, intersect, setdiff, union\n",
      "\n",
      "The following objects are masked from ‘package:stats’:\n",
      "\n",
      "    filter, lag\n",
      "\n",
      "The following objects are masked from ‘package:base’:\n",
      "\n",
      "    intersect, setdiff, setequal, union\n",
      "\n"
     ]
    }
   ],
   "source": [
    "library(\"DESeq2\")\n",
    "library(\"dplyr\")\n",
    "library(\"ggplot2\")\n",
    "library(\"magrittr\")"
   ]
  },
  {
   "cell_type": "code",
   "execution_count": 22,
   "metadata": {},
   "outputs": [],
   "source": [
    "results <- \"results/\""
   ]
  },
  {
   "cell_type": "code",
   "execution_count": 8,
   "metadata": {},
   "outputs": [
    {
     "data": {
      "text/html": [
       "<table>\n",
       "<thead><tr><th></th><th scope=col>HM43_LB</th><th scope=col>HM43_mouse</th><th scope=col>HM43_UR</th><th scope=col>HM43_UTI</th><th scope=col>HM56_LB</th><th scope=col>HM56_mouse</th><th scope=col>HM56_UR</th><th scope=col>HM56_UTI</th><th scope=col>HM86_LB</th><th scope=col>HM86_mouse</th><th scope=col>HM86_UR</th><th scope=col>HM86_UTI</th></tr></thead>\n",
       "<tbody>\n",
       "\t<tr><th scope=row>b1632</th><td> 1999</td><td> 296 </td><td> 875 </td><td>1360 </td><td> 4110</td><td>1174 </td><td> 4736</td><td> 1809</td><td> 6937</td><td>  860</td><td>10034</td><td> 949 </td></tr>\n",
       "\t<tr><th scope=row>b3187</th><td> 9026</td><td> 438 </td><td>4685 </td><td> 990 </td><td>11857</td><td>1601 </td><td> 7605</td><td> 2142</td><td> 9603</td><td> 2181</td><td> 6470</td><td> 880 </td></tr>\n",
       "\t<tr><th scope=row>b1864</th><td>23055</td><td>2377 </td><td>9739 </td><td>5595 </td><td>58938</td><td>8212 </td><td>25955</td><td>10972</td><td>53927</td><td>10095</td><td>32852</td><td>4575 </td></tr>\n",
       "\t<tr><th scope=row>b0590</th><td>  268</td><td> 107 </td><td> 785 </td><td> 144 </td><td>  242</td><td> 162 </td><td>  796</td><td>  373</td><td>  139</td><td>  261</td><td>  884</td><td> 130 </td></tr>\n",
       "\t<tr><th scope=row>b2290</th><td> 9083</td><td> 901 </td><td>5201 </td><td>2879 </td><td>19675</td><td>2453 </td><td>17702</td><td> 3006</td><td>23445</td><td> 3423</td><td>18558</td><td>1563 </td></tr>\n",
       "\t<tr><th scope=row>b4461</th><td> 2653</td><td> 202 </td><td>1710 </td><td> 725 </td><td> 4688</td><td> 338 </td><td> 4277</td><td> 1087</td><td> 4759</td><td>  812</td><td> 6957</td><td> 533 </td></tr>\n",
       "</tbody>\n",
       "</table>\n"
      ],
      "text/latex": [
       "\\begin{tabular}{r|llllllllllll}\n",
       "  & HM43\\_LB & HM43\\_mouse & HM43\\_UR & HM43\\_UTI & HM56\\_LB & HM56\\_mouse & HM56\\_UR & HM56\\_UTI & HM86\\_LB & HM86\\_mouse & HM86\\_UR & HM86\\_UTI\\\\\n",
       "\\hline\n",
       "\tb1632 &  1999 &  296  &  875  & 1360  &  4110 & 1174  &  4736 &  1809 &  6937 &   860 & 10034 &  949 \\\\\n",
       "\tb3187 &  9026 &  438  & 4685  &  990  & 11857 & 1601  &  7605 &  2142 &  9603 &  2181 &  6470 &  880 \\\\\n",
       "\tb1864 & 23055 & 2377  & 9739  & 5595  & 58938 & 8212  & 25955 & 10972 & 53927 & 10095 & 32852 & 4575 \\\\\n",
       "\tb0590 &   268 &  107  &  785  &  144  &   242 &  162  &   796 &   373 &   139 &   261 &   884 &  130 \\\\\n",
       "\tb2290 &  9083 &  901  & 5201  & 2879  & 19675 & 2453  & 17702 &  3006 & 23445 &  3423 & 18558 & 1563 \\\\\n",
       "\tb4461 &  2653 &  202  & 1710  &  725  &  4688 &  338  &  4277 &  1087 &  4759 &   812 &  6957 &  533 \\\\\n",
       "\\end{tabular}\n"
      ],
      "text/markdown": [
       "\n",
       "| <!--/--> | HM43_LB | HM43_mouse | HM43_UR | HM43_UTI | HM56_LB | HM56_mouse | HM56_UR | HM56_UTI | HM86_LB | HM86_mouse | HM86_UR | HM86_UTI |\n",
       "|---|---|---|---|---|---|---|---|---|---|---|---|---|\n",
       "| b1632 |  1999 |  296  |  875  | 1360  |  4110 | 1174  |  4736 |  1809 |  6937 |   860 | 10034 |  949  |\n",
       "| b3187 |  9026 |  438  | 4685  |  990  | 11857 | 1601  |  7605 |  2142 |  9603 |  2181 |  6470 |  880  |\n",
       "| b1864 | 23055 | 2377  | 9739  | 5595  | 58938 | 8212  | 25955 | 10972 | 53927 | 10095 | 32852 | 4575  |\n",
       "| b0590 |   268 |  107  |  785  |  144  |   242 |  162  |   796 |   373 |   139 |   261 |   884 |  130  |\n",
       "| b2290 |  9083 |  901  | 5201  | 2879  | 19675 | 2453  | 17702 |  3006 | 23445 |  3423 | 18558 | 1563  |\n",
       "| b4461 |  2653 |  202  | 1710  |  725  |  4688 |  338  |  4277 |  1087 |  4759 |   812 |  6957 |  533  |\n",
       "\n"
      ],
      "text/plain": [
       "      HM43_LB HM43_mouse HM43_UR HM43_UTI HM56_LB HM56_mouse HM56_UR HM56_UTI\n",
       "b1632  1999    296        875    1360      4110   1174        4736    1809   \n",
       "b3187  9026    438       4685     990     11857   1601        7605    2142   \n",
       "b1864 23055   2377       9739    5595     58938   8212       25955   10972   \n",
       "b0590   268    107        785     144       242    162         796     373   \n",
       "b2290  9083    901       5201    2879     19675   2453       17702    3006   \n",
       "b4461  2653    202       1710     725      4688    338        4277    1087   \n",
       "      HM86_LB HM86_mouse HM86_UR HM86_UTI\n",
       "b1632  6937     860      10034    949    \n",
       "b3187  9603    2181       6470    880    \n",
       "b1864 53927   10095      32852   4575    \n",
       "b0590   139     261        884    130    \n",
       "b2290 23445    3423      18558   1563    \n",
       "b4461  4759     812       6957    533    "
      ]
     },
     "metadata": {},
     "output_type": "display_data"
    }
   ],
   "source": [
    "df <- read.table('results/counts_for_DE.csv', row.names = 1, header=TRUE, sep=',')\n",
    "df <-df[,order(colnames(df))]\n",
    "head(df)"
   ]
  },
  {
   "cell_type": "code",
   "execution_count": 9,
   "metadata": {},
   "outputs": [],
   "source": [
    "colData = read.table(\"results/info_for_DE.csv\", \n",
    "                      row.names = 1, header=TRUE, sep=\",\")\n",
    "colData <- colData[order(rownames(colData)),]"
   ]
  },
  {
   "cell_type": "code",
   "execution_count": 10,
   "metadata": {},
   "outputs": [
    {
     "data": {
      "text/html": [
       "<table>\n",
       "<thead><tr><th></th><th scope=col>strain</th><th scope=col>treat</th></tr></thead>\n",
       "<tbody>\n",
       "\t<tr><th scope=row>HM43_LB</th><td>HM43 </td><td>LB   </td></tr>\n",
       "\t<tr><th scope=row>HM43_mouse</th><td>HM43 </td><td>mouse</td></tr>\n",
       "\t<tr><th scope=row>HM43_UR</th><td>HM43 </td><td>UR   </td></tr>\n",
       "\t<tr><th scope=row>HM43_UTI</th><td>HM43 </td><td>UTI  </td></tr>\n",
       "\t<tr><th scope=row>HM56_LB</th><td>HM56 </td><td>LB   </td></tr>\n",
       "\t<tr><th scope=row>HM56_mouse</th><td>HM56 </td><td>mouse</td></tr>\n",
       "\t<tr><th scope=row>HM56_UR</th><td>HM56 </td><td>UR   </td></tr>\n",
       "\t<tr><th scope=row>HM56_UTI</th><td>HM56 </td><td>UTI  </td></tr>\n",
       "\t<tr><th scope=row>HM86_LB</th><td>HM86 </td><td>LB   </td></tr>\n",
       "\t<tr><th scope=row>HM86_mouse</th><td>HM86 </td><td>mouse</td></tr>\n",
       "\t<tr><th scope=row>HM86_UR</th><td>HM86 </td><td>UR   </td></tr>\n",
       "\t<tr><th scope=row>HM86_UTI</th><td>HM86 </td><td>UTI  </td></tr>\n",
       "</tbody>\n",
       "</table>\n"
      ],
      "text/latex": [
       "\\begin{tabular}{r|ll}\n",
       "  & strain & treat\\\\\n",
       "\\hline\n",
       "\tHM43\\_LB & HM43  & LB   \\\\\n",
       "\tHM43\\_mouse & HM43  & mouse\\\\\n",
       "\tHM43\\_UR & HM43  & UR   \\\\\n",
       "\tHM43\\_UTI & HM43  & UTI  \\\\\n",
       "\tHM56\\_LB & HM56  & LB   \\\\\n",
       "\tHM56\\_mouse & HM56  & mouse\\\\\n",
       "\tHM56\\_UR & HM56  & UR   \\\\\n",
       "\tHM56\\_UTI & HM56  & UTI  \\\\\n",
       "\tHM86\\_LB & HM86  & LB   \\\\\n",
       "\tHM86\\_mouse & HM86  & mouse\\\\\n",
       "\tHM86\\_UR & HM86  & UR   \\\\\n",
       "\tHM86\\_UTI & HM86  & UTI  \\\\\n",
       "\\end{tabular}\n"
      ],
      "text/markdown": [
       "\n",
       "| <!--/--> | strain | treat |\n",
       "|---|---|---|\n",
       "| HM43_LB | HM43  | LB    |\n",
       "| HM43_mouse | HM43  | mouse |\n",
       "| HM43_UR | HM43  | UR    |\n",
       "| HM43_UTI | HM43  | UTI   |\n",
       "| HM56_LB | HM56  | LB    |\n",
       "| HM56_mouse | HM56  | mouse |\n",
       "| HM56_UR | HM56  | UR    |\n",
       "| HM56_UTI | HM56  | UTI   |\n",
       "| HM86_LB | HM86  | LB    |\n",
       "| HM86_mouse | HM86  | mouse |\n",
       "| HM86_UR | HM86  | UR    |\n",
       "| HM86_UTI | HM86  | UTI   |\n",
       "\n"
      ],
      "text/plain": [
       "           strain treat\n",
       "HM43_LB    HM43   LB   \n",
       "HM43_mouse HM43   mouse\n",
       "HM43_UR    HM43   UR   \n",
       "HM43_UTI   HM43   UTI  \n",
       "HM56_LB    HM56   LB   \n",
       "HM56_mouse HM56   mouse\n",
       "HM56_UR    HM56   UR   \n",
       "HM56_UTI   HM56   UTI  \n",
       "HM86_LB    HM86   LB   \n",
       "HM86_mouse HM86   mouse\n",
       "HM86_UR    HM86   UR   \n",
       "HM86_UTI   HM86   UTI  "
      ]
     },
     "metadata": {},
     "output_type": "display_data"
    }
   ],
   "source": [
    "colData"
   ]
  },
  {
   "cell_type": "code",
   "execution_count": 11,
   "metadata": {},
   "outputs": [
    {
     "data": {
      "text/html": [
       "<ol class=list-inline>\n",
       "\t<li>TRUE</li>\n",
       "\t<li>TRUE</li>\n",
       "\t<li>TRUE</li>\n",
       "\t<li>TRUE</li>\n",
       "\t<li>TRUE</li>\n",
       "\t<li>TRUE</li>\n",
       "\t<li>TRUE</li>\n",
       "\t<li>TRUE</li>\n",
       "\t<li>TRUE</li>\n",
       "\t<li>TRUE</li>\n",
       "\t<li>TRUE</li>\n",
       "\t<li>TRUE</li>\n",
       "</ol>\n"
      ],
      "text/latex": [
       "\\begin{enumerate*}\n",
       "\\item TRUE\n",
       "\\item TRUE\n",
       "\\item TRUE\n",
       "\\item TRUE\n",
       "\\item TRUE\n",
       "\\item TRUE\n",
       "\\item TRUE\n",
       "\\item TRUE\n",
       "\\item TRUE\n",
       "\\item TRUE\n",
       "\\item TRUE\n",
       "\\item TRUE\n",
       "\\end{enumerate*}\n"
      ],
      "text/markdown": [
       "1. TRUE\n",
       "2. TRUE\n",
       "3. TRUE\n",
       "4. TRUE\n",
       "5. TRUE\n",
       "6. TRUE\n",
       "7. TRUE\n",
       "8. TRUE\n",
       "9. TRUE\n",
       "10. TRUE\n",
       "11. TRUE\n",
       "12. TRUE\n",
       "\n",
       "\n"
      ],
      "text/plain": [
       " [1] TRUE TRUE TRUE TRUE TRUE TRUE TRUE TRUE TRUE TRUE TRUE TRUE"
      ]
     },
     "metadata": {},
     "output_type": "display_data"
    }
   ],
   "source": [
    "colnames(df) == rownames(colData)"
   ]
  },
  {
   "cell_type": "code",
   "execution_count": 12,
   "metadata": {},
   "outputs": [
    {
     "name": "stderr",
     "output_type": "stream",
     "text": [
      "converting counts to integer mode\n"
     ]
    }
   ],
   "source": [
    "dds <- DESeqDataSetFromMatrix(countData = df,\n",
    "                                  colData = colData,\n",
    "                                  design = ~ treat)\n"
   ]
  },
  {
   "cell_type": "code",
   "execution_count": 13,
   "metadata": {},
   "outputs": [],
   "source": [
    "rld <- rlog(dds, blind = FALSE)"
   ]
  },
  {
   "cell_type": "code",
   "execution_count": 14,
   "metadata": {},
   "outputs": [
    {
     "data": {
      "image/png": "[encoded data removed]",
      "text/plain": [
       "plot without title"
      ]
     },
     "metadata": {},
     "output_type": "display_data"
    }
   ],
   "source": [
    "plotPCA(rld, intgroup = c('treat'))"
   ]
  },
  {
   "cell_type": "code",
   "execution_count": 21,
   "metadata": {},
   "outputs": [],
   "source": [
    "process_results <- function (res, prefix, outdir){\n",
    " \n",
    "  resSig <- subset(res, (padj < 0.05)& (abs(log2FoldChange) > 1))\n",
    "  write.csv(resSig[order(resSig$log2FoldChange, decreasing = TRUE),], file.path(outdir, paste0(prefix, \"_significant.csv\")),\n",
    "            row.names = TRUE, quote = FALSE)\n",
    "  write.csv(res[order(res$log2FoldChange, decreasing = TRUE),], file.path(outdir, paste0(prefix, \"_all.csv\")),\n",
    "            row.names = TRUE, quote = FALSE)\n",
    "}"
   ]
  },
  {
   "cell_type": "code",
   "execution_count": 24,
   "metadata": {},
   "outputs": [
    {
     "name": "stderr",
     "output_type": "stream",
     "text": [
      "converting counts to integer mode\n",
      "estimating size factors\n",
      "estimating dispersions\n",
      "gene-wise dispersion estimates\n",
      "mean-dispersion relationship\n",
      "final dispersion estimates\n",
      "fitting model and testing\n"
     ]
    }
   ],
   "source": [
    "dds <- DESeqDataSetFromMatrix(countData = df,\n",
    "                                  colData = colData,\n",
    "                                  design = ~ treat)\n",
    "analysis <- DESeq(dds)\n",
    "res_LB <- results(analysis, contrast=c(\"treat\",\"UTI\",\"LB\"),lfcThreshold = 1)\n",
    "process_results(res_LB, \"UTI_LB\", results)\n",
    "res_UR <- results(analysis, contrast=c(\"treat\", \"UTI\", \"UR\"), lfcThreshold = 1)\n",
    "process_results(res_UR, \"UTI_UR\", results)\n",
    "res_mouse <- results(analysis, contrast=c(\"treat\", \"UTI\", \"mouse\"), lfcThreshold = 1)\n",
    "process_results(res_mouse, \"UTI_mouse\", results)\n",
    "res_mouse_LB <- results(analysis, contrast=c(\"treat\", \"mouse\", \"LB\"), lfcThreshold = 1)\n",
    "process_results(res_mouse_LB, \"mouse_LB\", results)"
   ]
  },
  {
   "cell_type": "code",
   "execution_count": 26,
   "metadata": {},
   "outputs": [
    {
     "data": {
      "text/plain": [
       "log2 fold change (MLE): treat mouse vs LB \n",
       "Wald test p-value: treat mouse vs LB \n",
       "DataFrame with 269 rows and 6 columns\n",
       "              baseMean    log2FoldChange             lfcSE              stat\n",
       "             <numeric>         <numeric>         <numeric>         <numeric>\n",
       "b0590 357.753129627728  2.30012214189528 0.415342409546136  3.13024172830312\n",
       "b4079 719.894266325679  3.48480457762306 0.401855704221933  6.18332538649438\n",
       "b0614 145.070809408147  7.41671341185832 0.745522924238641  8.60699678472173\n",
       "b3329 103.874053048858  2.82821204125818  0.53664133526805   3.4067670921119\n",
       "b1194 575.529048656368 -5.67993454426737  1.21649919447946 -3.84705108355612\n",
       "...                ...               ...               ...               ...\n",
       "b1083 1381.18376587676 -3.74067247562859 0.858321469615279 -3.19306061032941\n",
       "b0872 95.2196807637117  4.42353058491262 0.861752247630337  3.97275503989309\n",
       "b2375 246.726354393523   4.0488403479314 0.568397053263434  5.36392708306029\n",
       "b1881 1136.36021347041 -4.85578941333841  1.07330805265478 -3.59243499925422\n",
       "b3366  76.915711272939  6.46299539062298 0.654632416698052  8.34513423300694\n",
       "                    pvalue                 padj\n",
       "                 <numeric>            <numeric>\n",
       "b0590  0.00174662511541466   0.0233581998768121\n",
       "b4079 6.27651532681143e-10  3.4974138182177e-08\n",
       "b0614 7.49995497254822e-18 2.05157859203614e-15\n",
       "b3329 0.000657371966340916  0.00989016123359907\n",
       "b1194 0.000119548050594346  0.00215401248046938\n",
       "...                    ...                  ...\n",
       "b1083  0.00140773395383982   0.0196105160514075\n",
       "b0872 7.10461019027444e-05   0.0013703700040087\n",
       "b2375 8.14317875099889e-08 2.98549336474605e-06\n",
       "b1881 0.000327602386823874  0.00538664252433353\n",
       "b3366 7.11330432783712e-17 1.78366106020516e-14"
      ]
     },
     "metadata": {},
     "output_type": "display_data"
    }
   ],
   "source": [
    "subset(res_mouse_LB, (padj < 0.05)& (abs(log2FoldChange) > 1))"
   ]
  },
  {
   "cell_type": "code",
   "execution_count": null,
   "metadata": {},
   "outputs": [],
   "source": []
  }
 ],
 "metadata": {
  "kernelspec": {
   "display_name": "R",
   "language": "R",
   "name": "ir"
  },
  "language_info": {
   "codemirror_mode": "r",
   "file_extension": ".r",
   "mimetype": "text/x-r-source",
   "name": "R",
   "pygments_lexer": "r",
   "version": "3.5.1"
  }
 },
 "nbformat": 4,
 "nbformat_minor": 2
}
